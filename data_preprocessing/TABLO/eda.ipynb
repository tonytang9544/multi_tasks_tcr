{
 "cells": [
  {
   "cell_type": "markdown",
   "id": "2611ea58",
   "metadata": {},
   "source": [
    "# EDA"
   ]
  },
  {
   "cell_type": "code",
   "execution_count": 1,
   "id": "2116a5fc",
   "metadata": {},
   "outputs": [],
   "source": [
    "import pandas as pd\n",
    "\n",
    "tcr_data_path = \"/Users/tangm/The Francis Crick Dropbox/Minzhe Tang/Tony/After-PhD/Machine_learning_MSc/UCL-AI_for_biomed/Course_material/thesis_project/TCR_project/dataset/CD4_CD8_sceptr.csv.gz\"\n",
    "\n",
    "dataset = pd.read_csv(tcr_data_path)\n"
   ]
  },
  {
   "cell_type": "code",
   "execution_count": 11,
   "id": "d6246276",
   "metadata": {},
   "outputs": [
    {
     "name": "stdout",
     "output_type": "stream",
     "text": [
      "Unnamed: 0                  0\n",
      "donor                 CHOC008\n",
      "CD4_or_CD8                CD4\n",
      "TRAV                 TRAV12-3\n",
      "TRAJ                   TRAJ10\n",
      "TRBV                  TRBV6-6\n",
      "TRBJ                  TRBJ2-2\n",
      "CDR3A           CAMKWGGGNKLTF\n",
      "CDR3B         CASWGGGENTGELFF\n",
      "Name: 0, dtype: object\n",
      "   Unnamed: 0    donor CD4_or_CD8          TRAV    TRAJ     TRBV     TRBJ  \\\n",
      "0           0  CHOC008        CD4      TRAV12-3  TRAJ10  TRBV6-6  TRBJ2-2   \n",
      "1           1  CHOC008        CD4  TRAV38-2/DV8  TRAJ27   TRBV18  TRBJ1-1   \n",
      "2           2  CHOC008        CD8    TRAV29/DV5  TRAJ17  TRBV7-8  TRBJ1-1   \n",
      "3           3  CHOC008        CD8  TRAV38-2/DV8  TRAJ17  TRBV5-1  TRBJ2-7   \n",
      "4           4  CHOC008        CD4        TRAV27  TRAJ15   TRBV27  TRBJ1-1   \n",
      "\n",
      "            CDR3A             CDR3B  \n",
      "0   CAMKWGGGNKLTF   CASWGGGENTGELFF  \n",
      "1   CAARNTNAGKSTF  CASSPQPGQGATEAFF  \n",
      "2  CAASARAAGNKLTF    CASRPPTVNTEAFF  \n",
      "3  CAYRGQAAGNKLTF   CASSLADDRGYEQYF  \n",
      "4    CAGGIKRTALIF      CASRGQHTEAFF  \n"
     ]
    }
   ],
   "source": [
    "print(dataset.iloc[0])\n",
    "\n",
    "first_line = dataset.iloc[0]\n",
    "\n",
    "first_two_lines = dataset.iloc[0:5]\n",
    "print(first_two_lines.head())"
   ]
  },
  {
   "cell_type": "code",
   "execution_count": 8,
   "id": "36e12798",
   "metadata": {},
   "outputs": [
    {
     "data": {
      "text/plain": [
       "<bound method DataFrame.__len__ of          Unnamed: 0     donor CD4_or_CD8          TRAV    TRAJ      TRBV  \\\n",
       "0                 0   CHOC008        CD4      TRAV12-3  TRAJ10   TRBV6-6   \n",
       "1                 1   CHOC008        CD4  TRAV38-2/DV8  TRAJ27    TRBV18   \n",
       "2                 2   CHOC008        CD8    TRAV29/DV5  TRAJ17   TRBV7-8   \n",
       "3                 3   CHOC008        CD8  TRAV38-2/DV8  TRAJ17   TRBV5-1   \n",
       "4                 4   CHOC008        CD4        TRAV27  TRAJ15    TRBV27   \n",
       "...             ...       ...        ...           ...     ...       ...   \n",
       "4074955     4141417  UCIMC018        CD4        TRAV20  TRAJ48    TRBV18   \n",
       "4074956     4141418  UCIMC018        CD4      TRAV12-1   TRAJ5    TRBV27   \n",
       "4074957     4141419  UCIMC018        CD4       TRAV9-2  TRAJ22   TRBV6-5   \n",
       "4074958     4141421  UCIMC018        CD4        TRAV17  TRAJ52  TRBV29-1   \n",
       "4074959     4141422  UCIMC018        CD4         TRAV2  TRAJ21  TRBV10-3   \n",
       "\n",
       "            TRBJ              CDR3A               CDR3B  \n",
       "0        TRBJ2-2      CAMKWGGGNKLTF     CASWGGGENTGELFF  \n",
       "1        TRBJ1-1      CAARNTNAGKSTF    CASSPQPGQGATEAFF  \n",
       "2        TRBJ1-1     CAASARAAGNKLTF      CASRPPTVNTEAFF  \n",
       "3        TRBJ2-7     CAYRGQAAGNKLTF     CASSLADDRGYEQYF  \n",
       "4        TRBJ1-1       CAGGIKRTALIF        CASRGQHTEAFF  \n",
       "...          ...                ...                 ...  \n",
       "4074955  TRBJ2-2      CAVRPGGNEKLTF     CASSPRTGGAGELFF  \n",
       "4074956  TRBJ1-6  CVVNIIGVDTGRRALTF     CASSLSGQYNSPLHF  \n",
       "4074957  TRBJ2-5     CALSTTRAARQLTF       CASSYPGSETQYF  \n",
       "4074958  TRBJ2-5   CATTGAGGTSYGKLTF     CSVNPSQGAGETQYF  \n",
       "4074959  TRBJ2-1       CAVLYNFNKFYF  CAIRDTATSGGVEGEQFF  \n",
       "\n",
       "[4074960 rows x 9 columns]>"
      ]
     },
     "execution_count": 8,
     "metadata": {},
     "output_type": "execute_result"
    }
   ],
   "source": [
    "dataset.__len__"
   ]
  },
  {
   "cell_type": "code",
   "execution_count": 2,
   "id": "8473afa6",
   "metadata": {},
   "outputs": [
    {
     "data": {
      "text/plain": [
       "array(['CHOC008', 'CHOC015', 'CHOC016', 'CHOC034', 'CHOC039', 'CHOC066',\n",
       "       'UCIMC001', 'UCIMC004', 'UCIMC016', 'UCIMC018'], dtype=object)"
      ]
     },
     "execution_count": 2,
     "metadata": {},
     "output_type": "execute_result"
    }
   ],
   "source": [
    "dataset['donor'].unique()"
   ]
  },
  {
   "cell_type": "code",
   "execution_count": 3,
   "id": "76d9ba8e",
   "metadata": {},
   "outputs": [
    {
     "name": "stdout",
     "output_type": "stream",
     "text": [
      "CHOC008\n"
     ]
    }
   ],
   "source": [
    "for index, entry in dataset.iterrows():\n",
    "    print(entry[\"donor\"])\n",
    "    break"
   ]
  },
  {
   "cell_type": "code",
   "execution_count": null,
   "id": "2ef412c6",
   "metadata": {},
   "outputs": [],
   "source": [
    "col_rename_df = pd.DataFrame()\n",
    "\n",
    "mapping = {\n",
    "    \"v_gene_A\": \"TRAV\",\n",
    "    \"j_gene_A\": \"TRAJ\",\n",
    "    \"cdr3_A\": \"CDR3A\",\n",
    "    \"v_gene_B\": \"TRBV\",\n",
    "    \"j_gene_B\": \"TRBJ\",\n",
    "    \"cdr3_B\": \"CDR3B\",\n",
    "    \"t\tCD4_or_CD8\": \"label\",\n",
    "}\n",
    "\n",
    "for k, v in mapping:\n",
    "    col_rename_df[v] = dataset[v]\n",
    "\n",
    "standardise_cols = [\"TRAV\", \"TRAJ\", \"TRBV\", \"TRBJ\"]\n",
    "\n",
    "import tidytcells\n",
    "\n",
    "col_rename_df[standardise_cols] = col_rename_df[standardise_cols].apply(\n",
    "    lambda x: tidytcells.tr.standardise(x, enforce_functional=True)\n",
    ")"
   ]
  },
  {
   "cell_type": "code",
   "execution_count": 3,
   "id": "e0c7b2a4",
   "metadata": {},
   "outputs": [
    {
     "ename": "TypeError",
     "evalue": "stitch() missing 9 required positional arguments: 'tcr_info', 'functionality', 'partial_info', 'codon_dict', 'j_warning_threshold', 'preferences', 'c_motifs', 'j_residues', and 'low_confidence_js'",
     "output_type": "error",
     "traceback": [
      "\u001b[0;31m---------------------------------------------------------------------------\u001b[0m",
      "\u001b[0;31mTypeError\u001b[0m                                 Traceback (most recent call last)",
      "Cell \u001b[0;32mIn[3], line 13\u001b[0m\n\u001b[1;32m      2\u001b[0m \u001b[38;5;28;01mimport\u001b[39;00m\u001b[38;5;250m \u001b[39m\u001b[38;5;21;01mpandas\u001b[39;00m\u001b[38;5;250m \u001b[39m\u001b[38;5;28;01mas\u001b[39;00m\u001b[38;5;250m \u001b[39m\u001b[38;5;21;01mpd\u001b[39;00m\n\u001b[1;32m      4\u001b[0m df \u001b[38;5;241m=\u001b[39m pd\u001b[38;5;241m.\u001b[39mDataFrame(\n\u001b[1;32m      5\u001b[0m     data\u001b[38;5;241m=\u001b[39m{\n\u001b[1;32m      6\u001b[0m         \u001b[38;5;124m\"\u001b[39m\u001b[38;5;124mv\u001b[39m\u001b[38;5;124m\"\u001b[39m: \u001b[38;5;124m\"\u001b[39m\u001b[38;5;124mTRAV12-3\u001b[39m\u001b[38;5;124m\"\u001b[39m,\n\u001b[0;32m   (...)\u001b[0m\n\u001b[1;32m     10\u001b[0m     index\u001b[38;5;241m=\u001b[39m[\u001b[38;5;241m0\u001b[39m]\n\u001b[1;32m     11\u001b[0m )\n\u001b[0;32m---> 13\u001b[0m \u001b[43mst\u001b[49m\u001b[38;5;241;43m.\u001b[39;49m\u001b[43mstitch\u001b[49m\u001b[43m(\u001b[49m\u001b[43mdf\u001b[49m\u001b[43m)\u001b[49m\n",
      "\u001b[0;31mTypeError\u001b[0m: stitch() missing 9 required positional arguments: 'tcr_info', 'functionality', 'partial_info', 'codon_dict', 'j_warning_threshold', 'preferences', 'c_motifs', 'j_residues', and 'low_confidence_js'"
     ]
    }
   ],
   "source": [
    "from Stitchr import stitchr as st\n",
    "import pandas as pd\n",
    "\n",
    "df = pd.DataFrame(\n",
    "    data={\n",
    "        \"v\": \"TRAV12-3\",\n",
    "        \"j\": \"TRAJ10\",\n",
    "        \"cdr3\": \"CAMKWGGGNKLTF\"\n",
    "    },\n",
    "    index=[0]\n",
    ")\n",
    "\n",
    "st.stitch(df)"
   ]
  },
  {
   "cell_type": "code",
   "execution_count": 7,
   "id": "820b9b3a",
   "metadata": {},
   "outputs": [
    {
     "name": "stdout",
     "output_type": "stream",
     "text": [
      "TYSSGN\n"
     ]
    }
   ],
   "source": [
    "from libtcrlm import schema\n",
    "\n",
    "tcr = schema.make_tcr_from_components(\n",
    "    trav_symbol=\"TRAV12-3\",\n",
    "    junction_a_sequence=\"CAMKWGGGNKLTF\",\n",
    "    trbv_symbol=\"TRBV6-6\",\n",
    "    junction_b_sequence=\"CASWGGGENTGELFF\"\n",
    ")\n",
    "\n",
    "print(tcr.cdr2a_sequence)"
   ]
  },
  {
   "cell_type": "code",
   "execution_count": 20,
   "id": "16222abb",
   "metadata": {},
   "outputs": [
    {
     "name": "stdout",
     "output_type": "stream",
     "text": [
      "TYSSGN\n"
     ]
    }
   ],
   "source": [
    "from libtcrlm import schema\n",
    "\n",
    "first_tcr = schema.make_tcr_from_components(\n",
    "    trav_symbol=first_line[\"TRAV\"],\n",
    "    junction_a_sequence=first_line[\"CDR3A\"],\n",
    "    trbv_symbol=first_line[\"TRBV\"],\n",
    "    junction_b_sequence=first_line[\"CDR3B\"]\n",
    ")\n",
    "\n",
    "print(first_tcr.cdr2a_sequence)\n"
   ]
  },
  {
   "cell_type": "code",
   "execution_count": 3,
   "id": "ec73fa24",
   "metadata": {},
   "outputs": [
    {
     "ename": "KeyboardInterrupt",
     "evalue": "",
     "output_type": "error",
     "traceback": [
      "\u001b[0;31m---------------------------------------------------------------------------\u001b[0m",
      "\u001b[0;31mKeyboardInterrupt\u001b[0m                         Traceback (most recent call last)",
      "Cell \u001b[0;32mIn[3], line 9\u001b[0m\n\u001b[1;32m      6\u001b[0m CDR2B \u001b[38;5;241m=\u001b[39m []\n\u001b[1;32m      8\u001b[0m \u001b[38;5;28;01mfor\u001b[39;00m idx, entry \u001b[38;5;129;01min\u001b[39;00m dataset\u001b[38;5;241m.\u001b[39miterrows():\n\u001b[0;32m----> 9\u001b[0m     tcr \u001b[38;5;241m=\u001b[39m \u001b[43mschema\u001b[49m\u001b[38;5;241;43m.\u001b[39;49m\u001b[43mmake_tcr_from_components\u001b[49m\u001b[43m(\u001b[49m\n\u001b[1;32m     10\u001b[0m \u001b[43m        \u001b[49m\u001b[43mtrav_symbol\u001b[49m\u001b[38;5;241;43m=\u001b[39;49m\u001b[43mentry\u001b[49m\u001b[43m[\u001b[49m\u001b[38;5;124;43m\"\u001b[39;49m\u001b[38;5;124;43mTRAV\u001b[39;49m\u001b[38;5;124;43m\"\u001b[39;49m\u001b[43m]\u001b[49m\u001b[43m,\u001b[49m\n\u001b[1;32m     11\u001b[0m \u001b[43m        \u001b[49m\u001b[43mjunction_a_sequence\u001b[49m\u001b[38;5;241;43m=\u001b[39;49m\u001b[43mentry\u001b[49m\u001b[43m[\u001b[49m\u001b[38;5;124;43m\"\u001b[39;49m\u001b[38;5;124;43mCDR3A\u001b[39;49m\u001b[38;5;124;43m\"\u001b[39;49m\u001b[43m]\u001b[49m\u001b[43m,\u001b[49m\n\u001b[1;32m     12\u001b[0m \u001b[43m        \u001b[49m\u001b[43mtrbv_symbol\u001b[49m\u001b[38;5;241;43m=\u001b[39;49m\u001b[43mentry\u001b[49m\u001b[43m[\u001b[49m\u001b[38;5;124;43m\"\u001b[39;49m\u001b[38;5;124;43mTRBV\u001b[39;49m\u001b[38;5;124;43m\"\u001b[39;49m\u001b[43m]\u001b[49m\u001b[43m,\u001b[49m\n\u001b[1;32m     13\u001b[0m \u001b[43m        \u001b[49m\u001b[43mjunction_b_sequence\u001b[49m\u001b[38;5;241;43m=\u001b[39;49m\u001b[43mentry\u001b[49m\u001b[43m[\u001b[49m\u001b[38;5;124;43m\"\u001b[39;49m\u001b[38;5;124;43mCDR3B\u001b[39;49m\u001b[38;5;124;43m\"\u001b[39;49m\u001b[43m]\u001b[49m\n\u001b[1;32m     14\u001b[0m \u001b[43m    \u001b[49m\u001b[43m)\u001b[49m\n\u001b[1;32m     16\u001b[0m     CDR1A\u001b[38;5;241m.\u001b[39mappend(tcr\u001b[38;5;241m.\u001b[39mcdr1a_sequence)\n\u001b[1;32m     17\u001b[0m     CDR2A\u001b[38;5;241m.\u001b[39mappend(tcr\u001b[38;5;241m.\u001b[39mcdr2a_sequence)\n",
      "File \u001b[0;32m~/Downloads/venvs/sceptr/lib/python3.9/site-packages/libtcrlm/schema/tcr.py:171\u001b[0m, in \u001b[0;36mmake_tcr_from_components\u001b[0;34m(trav_symbol, junction_a_sequence, trbv_symbol, junction_b_sequence)\u001b[0m\n\u001b[1;32m    169\u001b[0m trav \u001b[38;5;241m=\u001b[39m _get_trav_from_symbol(trav_symbol)\n\u001b[1;32m    170\u001b[0m trbv \u001b[38;5;241m=\u001b[39m _get_trbv_from_symbol(trbv_symbol)\n\u001b[0;32m--> 171\u001b[0m \u001b[43m_ensure_valid_junction\u001b[49m\u001b[43m(\u001b[49m\u001b[43mjunction_a_sequence\u001b[49m\u001b[43m,\u001b[49m\u001b[43m \u001b[49m\u001b[38;5;124;43m\"\u001b[39;49m\u001b[38;5;124;43mA\u001b[39;49m\u001b[38;5;124;43m\"\u001b[39;49m\u001b[43m)\u001b[49m\n\u001b[1;32m    172\u001b[0m _ensure_valid_junction(junction_b_sequence, \u001b[38;5;124m\"\u001b[39m\u001b[38;5;124mB\u001b[39m\u001b[38;5;124m\"\u001b[39m)\n\u001b[1;32m    174\u001b[0m \u001b[38;5;28;01mreturn\u001b[39;00m Tcr(\n\u001b[1;32m    175\u001b[0m     trav\u001b[38;5;241m=\u001b[39mtrav,\n\u001b[1;32m    176\u001b[0m     junction_a_sequence\u001b[38;5;241m=\u001b[39mjunction_a_sequence,\n\u001b[1;32m    177\u001b[0m     trbv\u001b[38;5;241m=\u001b[39mtrbv,\n\u001b[1;32m    178\u001b[0m     junction_b_sequence\u001b[38;5;241m=\u001b[39mjunction_b_sequence,\n\u001b[1;32m    179\u001b[0m )\n",
      "File \u001b[0;32m~/Downloads/venvs/sceptr/lib/python3.9/site-packages/libtcrlm/schema/tcr.py:230\u001b[0m, in \u001b[0;36m_ensure_valid_junction\u001b[0;34m(junction, chain)\u001b[0m\n\u001b[1;32m    227\u001b[0m \u001b[38;5;28;01mif\u001b[39;00m junction \u001b[38;5;129;01mis\u001b[39;00m \u001b[38;5;28;01mNone\u001b[39;00m:\n\u001b[1;32m    228\u001b[0m     \u001b[38;5;28;01mreturn\u001b[39;00m\n\u001b[0;32m--> 230\u001b[0m standardised \u001b[38;5;241m=\u001b[39m \u001b[43mtt\u001b[49m\u001b[38;5;241;43m.\u001b[39;49m\u001b[43mjunction\u001b[49m\u001b[38;5;241;43m.\u001b[39;49m\u001b[43mstandardize\u001b[49m\u001b[43m(\u001b[49m\u001b[43mjunction\u001b[49m\u001b[43m,\u001b[49m\u001b[43m \u001b[49m\u001b[43mstrict\u001b[49m\u001b[38;5;241;43m=\u001b[39;49m\u001b[38;5;28;43;01mFalse\u001b[39;49;00m\u001b[43m,\u001b[49m\u001b[43m \u001b[49m\u001b[43mlog_failures\u001b[49m\u001b[38;5;241;43m=\u001b[39;49m\u001b[38;5;28;43;01mFalse\u001b[39;49;00m\u001b[43m)\u001b[49m\n\u001b[1;32m    232\u001b[0m \u001b[38;5;28;01mif\u001b[39;00m standardised \u001b[38;5;129;01mis\u001b[39;00m \u001b[38;5;28;01mNone\u001b[39;00m:\n\u001b[1;32m    233\u001b[0m     \u001b[38;5;28;01mraise\u001b[39;00m exception\u001b[38;5;241m.\u001b[39mBadJunction(chain)\n",
      "File \u001b[0;32m~/Downloads/venvs/sceptr/lib/python3.9/site-packages/tidytcells/junction/_standardize.py:113\u001b[0m, in \u001b[0;36mstandardize\u001b[0;34m(seq, strict, on_fail, log_failures, suppress_warnings)\u001b[0m\n\u001b[1;32m     15\u001b[0m \u001b[38;5;28;01mdef\u001b[39;00m\u001b[38;5;250m \u001b[39m\u001b[38;5;21mstandardize\u001b[39m(\n\u001b[1;32m     16\u001b[0m     seq: \u001b[38;5;28mstr\u001b[39m,\n\u001b[1;32m     17\u001b[0m     strict: Optional[\u001b[38;5;28mbool\u001b[39m] \u001b[38;5;241m=\u001b[39m \u001b[38;5;28;01mNone\u001b[39;00m,\n\u001b[0;32m   (...)\u001b[0m\n\u001b[1;32m     20\u001b[0m     suppress_warnings: Optional[\u001b[38;5;28mbool\u001b[39m] \u001b[38;5;241m=\u001b[39m \u001b[38;5;28;01mNone\u001b[39;00m,\n\u001b[1;32m     21\u001b[0m ):\n\u001b[1;32m     22\u001b[0m \u001b[38;5;250m    \u001b[39m\u001b[38;5;124;03m\"\"\"\u001b[39;00m\n\u001b[1;32m     23\u001b[0m \u001b[38;5;124;03m    Ensures that a string value looks like a valid junction (CDR3) amino acid sequence.\u001b[39;00m\n\u001b[1;32m     24\u001b[0m \u001b[38;5;124;03m    This function is a special variant of :py:func:`tidytcells.aa.standardize`.\u001b[39;00m\n\u001b[0;32m   (...)\u001b[0m\n\u001b[1;32m    111\u001b[0m \u001b[38;5;124;03m                    RETURN original sequence\u001b[39;00m\n\u001b[1;32m    112\u001b[0m \u001b[38;5;124;03m    \"\"\"\u001b[39;00m\n\u001b[0;32m--> 113\u001b[0m     seq \u001b[38;5;241m=\u001b[39m \u001b[43mParameter\u001b[49m\u001b[43m(\u001b[49m\u001b[43mseq\u001b[49m\u001b[43m,\u001b[49m\u001b[43m \u001b[49m\u001b[38;5;124;43m\"\u001b[39;49m\u001b[38;5;124;43mseq\u001b[39;49m\u001b[38;5;124;43m\"\u001b[39;49m\u001b[43m)\u001b[49m\u001b[38;5;241m.\u001b[39mthrow_error_if_not_of_type(\u001b[38;5;28mstr\u001b[39m)\u001b[38;5;241m.\u001b[39mvalue\n\u001b[1;32m    114\u001b[0m     strict \u001b[38;5;241m=\u001b[39m (\n\u001b[1;32m    115\u001b[0m         Parameter(strict, \u001b[38;5;124m\"\u001b[39m\u001b[38;5;124mstrict\u001b[39m\u001b[38;5;124m\"\u001b[39m)\n\u001b[1;32m    116\u001b[0m         \u001b[38;5;241m.\u001b[39mset_default(\u001b[38;5;28;01mFalse\u001b[39;00m)\n\u001b[1;32m    117\u001b[0m         \u001b[38;5;241m.\u001b[39mthrow_error_if_not_of_type(\u001b[38;5;28mbool\u001b[39m)\n\u001b[1;32m    118\u001b[0m         \u001b[38;5;241m.\u001b[39mvalue\n\u001b[1;32m    119\u001b[0m     )\n\u001b[1;32m    120\u001b[0m     on_fail \u001b[38;5;241m=\u001b[39m (\n\u001b[1;32m    121\u001b[0m         Parameter(on_fail, \u001b[38;5;124m\"\u001b[39m\u001b[38;5;124mon_fail\u001b[39m\u001b[38;5;124m\"\u001b[39m)\n\u001b[1;32m    122\u001b[0m         \u001b[38;5;241m.\u001b[39mset_default(\u001b[38;5;124m\"\u001b[39m\u001b[38;5;124mreject\u001b[39m\u001b[38;5;124m\"\u001b[39m)\n\u001b[1;32m    123\u001b[0m         \u001b[38;5;241m.\u001b[39mthrow_error_if_not_of_type(\u001b[38;5;28mstr\u001b[39m)\n\u001b[1;32m    124\u001b[0m         \u001b[38;5;241m.\u001b[39mvalue\n\u001b[1;32m    125\u001b[0m     )\n",
      "File \u001b[0;32m~/Downloads/venvs/sceptr/lib/python3.9/site-packages/tidytcells/_utils/parameter.py:5\u001b[0m, in \u001b[0;36mParameter.__init__\u001b[0;34m(self, value, name)\u001b[0m\n\u001b[1;32m      4\u001b[0m \u001b[38;5;28;01mclass\u001b[39;00m\u001b[38;5;250m \u001b[39m\u001b[38;5;21;01mParameter\u001b[39;00m:\n\u001b[0;32m----> 5\u001b[0m     \u001b[38;5;28;01mdef\u001b[39;00m\u001b[38;5;250m \u001b[39m\u001b[38;5;21m__init__\u001b[39m(\u001b[38;5;28mself\u001b[39m, value: \u001b[38;5;28many\u001b[39m, name: \u001b[38;5;28mstr\u001b[39m) \u001b[38;5;241m-\u001b[39m\u001b[38;5;241m>\u001b[39m \u001b[38;5;28;01mNone\u001b[39;00m:\n\u001b[1;32m      6\u001b[0m         \u001b[38;5;28mself\u001b[39m\u001b[38;5;241m.\u001b[39mvalue \u001b[38;5;241m=\u001b[39m value\n\u001b[1;32m      7\u001b[0m         \u001b[38;5;28mself\u001b[39m\u001b[38;5;241m.\u001b[39mname \u001b[38;5;241m=\u001b[39m name\n",
      "\u001b[0;31mKeyboardInterrupt\u001b[0m: "
     ]
    }
   ],
   "source": [
    "from libtcrlm import schema\n",
    "\n",
    "CDR1A = []\n",
    "CDR2A = []\n",
    "CDR1B = []\n",
    "CDR2B = []\n",
    "\n",
    "for idx, entry in dataset.iterrows():\n",
    "    tcr = schema.make_tcr_from_components(\n",
    "        trav_symbol=entry[\"TRAV\"],\n",
    "        junction_a_sequence=entry[\"CDR3A\"],\n",
    "        trbv_symbol=entry[\"TRBV\"],\n",
    "        junction_b_sequence=entry[\"CDR3B\"]\n",
    "    )\n",
    "\n",
    "    CDR1A.append(tcr.cdr1a_sequence)\n",
    "    CDR2A.append(tcr.cdr2a_sequence)\n",
    "    CDR1B.append(tcr.cdr1b_sequence)\n",
    "    CDR2B.append(tcr.cdr2b_sequence)\n",
    "\n",
    "print(CDR1A[:5])\n"
   ]
  },
  {
   "cell_type": "code",
   "execution_count": 15,
   "id": "313fdc4a",
   "metadata": {},
   "outputs": [],
   "source": [
    "a = pd.Series(CDR1A[:5])"
   ]
  },
  {
   "cell_type": "code",
   "execution_count": null,
   "id": "09ab5e3b",
   "metadata": {},
   "outputs": [],
   "source": [
    "dataset[\"CDR1A\"] = pd.Series(CDR1A)\n",
    "dataset[\"CDR2A\"] = pd.Series(CDR2A)\n",
    "dataset[\"CDR1B\"] = pd.Series(CDR1B)\n",
    "dataset[\"CDR2B\"] = pd.Series(CDR2B)"
   ]
  },
  {
   "cell_type": "code",
   "execution_count": 17,
   "id": "59dd66f6",
   "metadata": {},
   "outputs": [],
   "source": [
    "cdr_dataset_path = \"/Users/tangm/The Francis Crick Dropbox/Minzhe Tang/Tony/After-PhD/Machine_learning_MSc/UCL-AI_for_biomed/Course_material/thesis_project/TCR_project/dataset/CD4_CD8_sceptr_cdrs.csv.gz\"\n",
    "dataset.to_csv(cdr_dataset_path)"
   ]
  },
  {
   "cell_type": "code",
   "execution_count": 18,
   "id": "b6e179c7",
   "metadata": {},
   "outputs": [
    {
     "data": {
      "text/html": [
       "<div>\n",
       "<style scoped>\n",
       "    .dataframe tbody tr th:only-of-type {\n",
       "        vertical-align: middle;\n",
       "    }\n",
       "\n",
       "    .dataframe tbody tr th {\n",
       "        vertical-align: top;\n",
       "    }\n",
       "\n",
       "    .dataframe thead th {\n",
       "        text-align: right;\n",
       "    }\n",
       "</style>\n",
       "<table border=\"1\" class=\"dataframe\">\n",
       "  <thead>\n",
       "    <tr style=\"text-align: right;\">\n",
       "      <th></th>\n",
       "      <th>donor</th>\n",
       "      <th>CD4_or_CD8</th>\n",
       "      <th>TRAV</th>\n",
       "      <th>TRAJ</th>\n",
       "      <th>TRBV</th>\n",
       "      <th>TRBJ</th>\n",
       "      <th>CDR3A</th>\n",
       "      <th>CDR3B</th>\n",
       "      <th>CDR1A</th>\n",
       "      <th>CDR2A</th>\n",
       "      <th>CDR1B</th>\n",
       "      <th>CDR2B</th>\n",
       "    </tr>\n",
       "  </thead>\n",
       "  <tbody>\n",
       "    <tr>\n",
       "      <th>0</th>\n",
       "      <td>CHOC008</td>\n",
       "      <td>CD4</td>\n",
       "      <td>TRAV12-3</td>\n",
       "      <td>TRAJ10</td>\n",
       "      <td>TRBV6-6</td>\n",
       "      <td>TRBJ2-2</td>\n",
       "      <td>CAMKWGGGNKLTF</td>\n",
       "      <td>CASWGGGENTGELFF</td>\n",
       "      <td>NSAFQY</td>\n",
       "      <td>TYSSGN</td>\n",
       "      <td>MNHNY</td>\n",
       "      <td>SVGAGI</td>\n",
       "    </tr>\n",
       "    <tr>\n",
       "      <th>1</th>\n",
       "      <td>CHOC008</td>\n",
       "      <td>CD4</td>\n",
       "      <td>TRAV38-2/DV8</td>\n",
       "      <td>TRAJ27</td>\n",
       "      <td>TRBV18</td>\n",
       "      <td>TRBJ1-1</td>\n",
       "      <td>CAARNTNAGKSTF</td>\n",
       "      <td>CASSPQPGQGATEAFF</td>\n",
       "      <td>TSESDYY</td>\n",
       "      <td>QEAYKQQN</td>\n",
       "      <td>KGHSH</td>\n",
       "      <td>LQKENI</td>\n",
       "    </tr>\n",
       "    <tr>\n",
       "      <th>2</th>\n",
       "      <td>CHOC008</td>\n",
       "      <td>CD8</td>\n",
       "      <td>TRAV29/DV5</td>\n",
       "      <td>TRAJ17</td>\n",
       "      <td>TRBV7-8</td>\n",
       "      <td>TRBJ1-1</td>\n",
       "      <td>CAASARAAGNKLTF</td>\n",
       "      <td>CASRPPTVNTEAFF</td>\n",
       "      <td>NSMFDY</td>\n",
       "      <td>ISSIKDK</td>\n",
       "      <td>SGHVS</td>\n",
       "      <td>FQNEAQ</td>\n",
       "    </tr>\n",
       "    <tr>\n",
       "      <th>3</th>\n",
       "      <td>CHOC008</td>\n",
       "      <td>CD8</td>\n",
       "      <td>TRAV38-2/DV8</td>\n",
       "      <td>TRAJ17</td>\n",
       "      <td>TRBV5-1</td>\n",
       "      <td>TRBJ2-7</td>\n",
       "      <td>CAYRGQAAGNKLTF</td>\n",
       "      <td>CASSLADDRGYEQYF</td>\n",
       "      <td>TSESDYY</td>\n",
       "      <td>QEAYKQQN</td>\n",
       "      <td>SGHRS</td>\n",
       "      <td>YFSETQ</td>\n",
       "    </tr>\n",
       "    <tr>\n",
       "      <th>4</th>\n",
       "      <td>CHOC008</td>\n",
       "      <td>CD4</td>\n",
       "      <td>TRAV27</td>\n",
       "      <td>TRAJ15</td>\n",
       "      <td>TRBV27</td>\n",
       "      <td>TRBJ1-1</td>\n",
       "      <td>CAGGIKRTALIF</td>\n",
       "      <td>CASRGQHTEAFF</td>\n",
       "      <td>SVFSS</td>\n",
       "      <td>VVTGGEV</td>\n",
       "      <td>MNHEY</td>\n",
       "      <td>SMNVEV</td>\n",
       "    </tr>\n",
       "  </tbody>\n",
       "</table>\n",
       "</div>"
      ],
      "text/plain": [
       "     donor CD4_or_CD8          TRAV    TRAJ     TRBV     TRBJ           CDR3A  \\\n",
       "0  CHOC008        CD4      TRAV12-3  TRAJ10  TRBV6-6  TRBJ2-2   CAMKWGGGNKLTF   \n",
       "1  CHOC008        CD4  TRAV38-2/DV8  TRAJ27   TRBV18  TRBJ1-1   CAARNTNAGKSTF   \n",
       "2  CHOC008        CD8    TRAV29/DV5  TRAJ17  TRBV7-8  TRBJ1-1  CAASARAAGNKLTF   \n",
       "3  CHOC008        CD8  TRAV38-2/DV8  TRAJ17  TRBV5-1  TRBJ2-7  CAYRGQAAGNKLTF   \n",
       "4  CHOC008        CD4        TRAV27  TRAJ15   TRBV27  TRBJ1-1    CAGGIKRTALIF   \n",
       "\n",
       "              CDR3B    CDR1A     CDR2A  CDR1B   CDR2B  \n",
       "0   CASWGGGENTGELFF   NSAFQY    TYSSGN  MNHNY  SVGAGI  \n",
       "1  CASSPQPGQGATEAFF  TSESDYY  QEAYKQQN  KGHSH  LQKENI  \n",
       "2    CASRPPTVNTEAFF   NSMFDY   ISSIKDK  SGHVS  FQNEAQ  \n",
       "3   CASSLADDRGYEQYF  TSESDYY  QEAYKQQN  SGHRS  YFSETQ  \n",
       "4      CASRGQHTEAFF    SVFSS   VVTGGEV  MNHEY  SMNVEV  "
      ]
     },
     "execution_count": 18,
     "metadata": {},
     "output_type": "execute_result"
    }
   ],
   "source": [
    "cdr_dataset_path = \"/Users/tangm/The Francis Crick Dropbox/Minzhe Tang/Tony/After-PhD/Machine_learning_MSc/UCL-AI_for_biomed/Course_material/thesis_project/TCR_project/dataset/CD4_CD8_sceptr_cdrs.csv.gz\"\n",
    "dataset = pd.read_csv(cdr_dataset_path)\n",
    "dataset.head()"
   ]
  },
  {
   "cell_type": "code",
   "execution_count": 19,
   "id": "748d14f8",
   "metadata": {},
   "outputs": [
    {
     "data": {
      "text/plain": [
       "Index(['donor', 'CD4_or_CD8', 'TRAV', 'TRAJ', 'TRBV', 'TRBJ', 'CDR3A', 'CDR3B',\n",
       "       'CDR1A', 'CDR2A', 'CDR1B', 'CDR2B'],\n",
       "      dtype='object')"
      ]
     },
     "execution_count": 19,
     "metadata": {},
     "output_type": "execute_result"
    }
   ],
   "source": [
    "dataset.columns"
   ]
  },
  {
   "cell_type": "code",
   "execution_count": 20,
   "id": "62e5bbc4",
   "metadata": {},
   "outputs": [],
   "source": [
    "dataset = dataset.drop_duplicates()"
   ]
  },
  {
   "cell_type": "code",
   "execution_count": 21,
   "id": "88b0e067",
   "metadata": {},
   "outputs": [
    {
     "data": {
      "text/html": [
       "<div>\n",
       "<style scoped>\n",
       "    .dataframe tbody tr th:only-of-type {\n",
       "        vertical-align: middle;\n",
       "    }\n",
       "\n",
       "    .dataframe tbody tr th {\n",
       "        vertical-align: top;\n",
       "    }\n",
       "\n",
       "    .dataframe thead th {\n",
       "        text-align: right;\n",
       "    }\n",
       "</style>\n",
       "<table border=\"1\" class=\"dataframe\">\n",
       "  <thead>\n",
       "    <tr style=\"text-align: right;\">\n",
       "      <th></th>\n",
       "      <th>donor</th>\n",
       "      <th>CD4_or_CD8</th>\n",
       "      <th>TRAV</th>\n",
       "      <th>TRAJ</th>\n",
       "      <th>TRBV</th>\n",
       "      <th>TRBJ</th>\n",
       "      <th>CDR3A</th>\n",
       "      <th>CDR3B</th>\n",
       "      <th>CDR1A</th>\n",
       "      <th>CDR2A</th>\n",
       "      <th>CDR1B</th>\n",
       "      <th>CDR2B</th>\n",
       "    </tr>\n",
       "  </thead>\n",
       "  <tbody>\n",
       "    <tr>\n",
       "      <th>0</th>\n",
       "      <td>CHOC008</td>\n",
       "      <td>CD4</td>\n",
       "      <td>TRAV12-3</td>\n",
       "      <td>TRAJ10</td>\n",
       "      <td>TRBV6-6</td>\n",
       "      <td>TRBJ2-2</td>\n",
       "      <td>CAMKWGGGNKLTF</td>\n",
       "      <td>CASWGGGENTGELFF</td>\n",
       "      <td>NSAFQY</td>\n",
       "      <td>TYSSGN</td>\n",
       "      <td>MNHNY</td>\n",
       "      <td>SVGAGI</td>\n",
       "    </tr>\n",
       "    <tr>\n",
       "      <th>1</th>\n",
       "      <td>CHOC008</td>\n",
       "      <td>CD4</td>\n",
       "      <td>TRAV38-2/DV8</td>\n",
       "      <td>TRAJ27</td>\n",
       "      <td>TRBV18</td>\n",
       "      <td>TRBJ1-1</td>\n",
       "      <td>CAARNTNAGKSTF</td>\n",
       "      <td>CASSPQPGQGATEAFF</td>\n",
       "      <td>TSESDYY</td>\n",
       "      <td>QEAYKQQN</td>\n",
       "      <td>KGHSH</td>\n",
       "      <td>LQKENI</td>\n",
       "    </tr>\n",
       "    <tr>\n",
       "      <th>2</th>\n",
       "      <td>CHOC008</td>\n",
       "      <td>CD8</td>\n",
       "      <td>TRAV29/DV5</td>\n",
       "      <td>TRAJ17</td>\n",
       "      <td>TRBV7-8</td>\n",
       "      <td>TRBJ1-1</td>\n",
       "      <td>CAASARAAGNKLTF</td>\n",
       "      <td>CASRPPTVNTEAFF</td>\n",
       "      <td>NSMFDY</td>\n",
       "      <td>ISSIKDK</td>\n",
       "      <td>SGHVS</td>\n",
       "      <td>FQNEAQ</td>\n",
       "    </tr>\n",
       "    <tr>\n",
       "      <th>3</th>\n",
       "      <td>CHOC008</td>\n",
       "      <td>CD8</td>\n",
       "      <td>TRAV38-2/DV8</td>\n",
       "      <td>TRAJ17</td>\n",
       "      <td>TRBV5-1</td>\n",
       "      <td>TRBJ2-7</td>\n",
       "      <td>CAYRGQAAGNKLTF</td>\n",
       "      <td>CASSLADDRGYEQYF</td>\n",
       "      <td>TSESDYY</td>\n",
       "      <td>QEAYKQQN</td>\n",
       "      <td>SGHRS</td>\n",
       "      <td>YFSETQ</td>\n",
       "    </tr>\n",
       "    <tr>\n",
       "      <th>4</th>\n",
       "      <td>CHOC008</td>\n",
       "      <td>CD4</td>\n",
       "      <td>TRAV27</td>\n",
       "      <td>TRAJ15</td>\n",
       "      <td>TRBV27</td>\n",
       "      <td>TRBJ1-1</td>\n",
       "      <td>CAGGIKRTALIF</td>\n",
       "      <td>CASRGQHTEAFF</td>\n",
       "      <td>SVFSS</td>\n",
       "      <td>VVTGGEV</td>\n",
       "      <td>MNHEY</td>\n",
       "      <td>SMNVEV</td>\n",
       "    </tr>\n",
       "  </tbody>\n",
       "</table>\n",
       "</div>"
      ],
      "text/plain": [
       "     donor CD4_or_CD8          TRAV    TRAJ     TRBV     TRBJ           CDR3A  \\\n",
       "0  CHOC008        CD4      TRAV12-3  TRAJ10  TRBV6-6  TRBJ2-2   CAMKWGGGNKLTF   \n",
       "1  CHOC008        CD4  TRAV38-2/DV8  TRAJ27   TRBV18  TRBJ1-1   CAARNTNAGKSTF   \n",
       "2  CHOC008        CD8    TRAV29/DV5  TRAJ17  TRBV7-8  TRBJ1-1  CAASARAAGNKLTF   \n",
       "3  CHOC008        CD8  TRAV38-2/DV8  TRAJ17  TRBV5-1  TRBJ2-7  CAYRGQAAGNKLTF   \n",
       "4  CHOC008        CD4        TRAV27  TRAJ15   TRBV27  TRBJ1-1    CAGGIKRTALIF   \n",
       "\n",
       "              CDR3B    CDR1A     CDR2A  CDR1B   CDR2B  \n",
       "0   CASWGGGENTGELFF   NSAFQY    TYSSGN  MNHNY  SVGAGI  \n",
       "1  CASSPQPGQGATEAFF  TSESDYY  QEAYKQQN  KGHSH  LQKENI  \n",
       "2    CASRPPTVNTEAFF   NSMFDY   ISSIKDK  SGHVS  FQNEAQ  \n",
       "3   CASSLADDRGYEQYF  TSESDYY  QEAYKQQN  SGHRS  YFSETQ  \n",
       "4      CASRGQHTEAFF    SVFSS   VVTGGEV  MNHEY  SMNVEV  "
      ]
     },
     "execution_count": 21,
     "metadata": {},
     "output_type": "execute_result"
    }
   ],
   "source": [
    "dataset.head()"
   ]
  },
  {
   "cell_type": "code",
   "execution_count": null,
   "id": "80873695",
   "metadata": {},
   "outputs": [
    {
     "data": {
      "text/html": [
       "<div>\n",
       "<style scoped>\n",
       "    .dataframe tbody tr th:only-of-type {\n",
       "        vertical-align: middle;\n",
       "    }\n",
       "\n",
       "    .dataframe tbody tr th {\n",
       "        vertical-align: top;\n",
       "    }\n",
       "\n",
       "    .dataframe thead th {\n",
       "        text-align: right;\n",
       "    }\n",
       "</style>\n",
       "<table border=\"1\" class=\"dataframe\">\n",
       "  <thead>\n",
       "    <tr style=\"text-align: right;\">\n",
       "      <th></th>\n",
       "      <th>donor</th>\n",
       "      <th>CD4_or_CD8</th>\n",
       "      <th>TRAV</th>\n",
       "      <th>TRAJ</th>\n",
       "      <th>TRBV</th>\n",
       "      <th>TRBJ</th>\n",
       "      <th>CDR3A</th>\n",
       "      <th>CDR3B</th>\n",
       "      <th>CDR1A</th>\n",
       "      <th>CDR2A</th>\n",
       "      <th>CDR1B</th>\n",
       "      <th>CDR2B</th>\n",
       "    </tr>\n",
       "  </thead>\n",
       "  <tbody>\n",
       "    <tr>\n",
       "      <th>0</th>\n",
       "      <td>CHOC008</td>\n",
       "      <td>CD4</td>\n",
       "      <td>TRAV12-3</td>\n",
       "      <td>TRAJ10</td>\n",
       "      <td>TRBV6-6</td>\n",
       "      <td>TRBJ2-2</td>\n",
       "      <td>CAMKWGGGNKLTF</td>\n",
       "      <td>CASWGGGENTGELFF</td>\n",
       "      <td>NSAFQY</td>\n",
       "      <td>TYSSGN</td>\n",
       "      <td>MNHNY</td>\n",
       "      <td>SVGAGI</td>\n",
       "    </tr>\n",
       "    <tr>\n",
       "      <th>1</th>\n",
       "      <td>CHOC008</td>\n",
       "      <td>CD4</td>\n",
       "      <td>TRAV38-2/DV8</td>\n",
       "      <td>TRAJ27</td>\n",
       "      <td>TRBV18</td>\n",
       "      <td>TRBJ1-1</td>\n",
       "      <td>CAARNTNAGKSTF</td>\n",
       "      <td>CASSPQPGQGATEAFF</td>\n",
       "      <td>TSESDYY</td>\n",
       "      <td>QEAYKQQN</td>\n",
       "      <td>KGHSH</td>\n",
       "      <td>LQKENI</td>\n",
       "    </tr>\n",
       "    <tr>\n",
       "      <th>2</th>\n",
       "      <td>CHOC008</td>\n",
       "      <td>CD8</td>\n",
       "      <td>TRAV29/DV5</td>\n",
       "      <td>TRAJ17</td>\n",
       "      <td>TRBV7-8</td>\n",
       "      <td>TRBJ1-1</td>\n",
       "      <td>CAASARAAGNKLTF</td>\n",
       "      <td>CASRPPTVNTEAFF</td>\n",
       "      <td>NSMFDY</td>\n",
       "      <td>ISSIKDK</td>\n",
       "      <td>SGHVS</td>\n",
       "      <td>FQNEAQ</td>\n",
       "    </tr>\n",
       "    <tr>\n",
       "      <th>3</th>\n",
       "      <td>CHOC008</td>\n",
       "      <td>CD8</td>\n",
       "      <td>TRAV38-2/DV8</td>\n",
       "      <td>TRAJ17</td>\n",
       "      <td>TRBV5-1</td>\n",
       "      <td>TRBJ2-7</td>\n",
       "      <td>CAYRGQAAGNKLTF</td>\n",
       "      <td>CASSLADDRGYEQYF</td>\n",
       "      <td>TSESDYY</td>\n",
       "      <td>QEAYKQQN</td>\n",
       "      <td>SGHRS</td>\n",
       "      <td>YFSETQ</td>\n",
       "    </tr>\n",
       "    <tr>\n",
       "      <th>4</th>\n",
       "      <td>CHOC008</td>\n",
       "      <td>CD4</td>\n",
       "      <td>TRAV27</td>\n",
       "      <td>TRAJ15</td>\n",
       "      <td>TRBV27</td>\n",
       "      <td>TRBJ1-1</td>\n",
       "      <td>CAGGIKRTALIF</td>\n",
       "      <td>CASRGQHTEAFF</td>\n",
       "      <td>SVFSS</td>\n",
       "      <td>VVTGGEV</td>\n",
       "      <td>MNHEY</td>\n",
       "      <td>SMNVEV</td>\n",
       "    </tr>\n",
       "  </tbody>\n",
       "</table>\n",
       "</div>"
      ],
      "text/plain": [
       "     donor CD4_or_CD8          TRAV    TRAJ     TRBV     TRBJ           CDR3A  \\\n",
       "0  CHOC008        CD4      TRAV12-3  TRAJ10  TRBV6-6  TRBJ2-2   CAMKWGGGNKLTF   \n",
       "1  CHOC008        CD4  TRAV38-2/DV8  TRAJ27   TRBV18  TRBJ1-1   CAARNTNAGKSTF   \n",
       "2  CHOC008        CD8    TRAV29/DV5  TRAJ17  TRBV7-8  TRBJ1-1  CAASARAAGNKLTF   \n",
       "3  CHOC008        CD8  TRAV38-2/DV8  TRAJ17  TRBV5-1  TRBJ2-7  CAYRGQAAGNKLTF   \n",
       "4  CHOC008        CD4        TRAV27  TRAJ15   TRBV27  TRBJ1-1    CAGGIKRTALIF   \n",
       "\n",
       "              CDR3B    CDR1A     CDR2A  CDR1B   CDR2B  \n",
       "0   CASWGGGENTGELFF   NSAFQY    TYSSGN  MNHNY  SVGAGI  \n",
       "1  CASSPQPGQGATEAFF  TSESDYY  QEAYKQQN  KGHSH  LQKENI  \n",
       "2    CASRPPTVNTEAFF   NSMFDY   ISSIKDK  SGHVS  FQNEAQ  \n",
       "3   CASSLADDRGYEQYF  TSESDYY  QEAYKQQN  SGHRS  YFSETQ  \n",
       "4      CASRGQHTEAFF    SVFSS   VVTGGEV  MNHEY  SMNVEV  "
      ]
     },
     "execution_count": 14,
     "metadata": {},
     "output_type": "execute_result"
    }
   ],
   "source": [
    "non_redundant_cdrs = \"/Users/tangm/The Francis Crick Dropbox/Minzhe Tang/Tony/After-PhD/Machine_learning_MSc/UCL-AI_for_biomed/Course_material/thesis_project/TCR_project/dataset/CD4_CD8_sceptr_nr_cdrs.csv.gz\"\n",
    "\n",
    "dataset.to_csv(non_redundant_cdrs, index=False)"
   ]
  },
  {
   "cell_type": "code",
   "execution_count": 15,
   "id": "e099438d",
   "metadata": {},
   "outputs": [],
   "source": [
    "dataset.to_csv(cdr_dataset_path, index=False)"
   ]
  },
  {
   "cell_type": "code",
   "execution_count": 17,
   "id": "4fd26325",
   "metadata": {},
   "outputs": [
    {
     "data": {
      "text/html": [
       "<div>\n",
       "<style scoped>\n",
       "    .dataframe tbody tr th:only-of-type {\n",
       "        vertical-align: middle;\n",
       "    }\n",
       "\n",
       "    .dataframe tbody tr th {\n",
       "        vertical-align: top;\n",
       "    }\n",
       "\n",
       "    .dataframe thead th {\n",
       "        text-align: right;\n",
       "    }\n",
       "</style>\n",
       "<table border=\"1\" class=\"dataframe\">\n",
       "  <thead>\n",
       "    <tr style=\"text-align: right;\">\n",
       "      <th></th>\n",
       "      <th>donor</th>\n",
       "      <th>CD4_or_CD8</th>\n",
       "      <th>TRAV</th>\n",
       "      <th>TRAJ</th>\n",
       "      <th>TRBV</th>\n",
       "      <th>TRBJ</th>\n",
       "      <th>CDR3A</th>\n",
       "      <th>CDR3B</th>\n",
       "      <th>CDR1A</th>\n",
       "      <th>CDR2A</th>\n",
       "      <th>CDR1B</th>\n",
       "      <th>CDR2B</th>\n",
       "      <th>combined_CDR</th>\n",
       "    </tr>\n",
       "  </thead>\n",
       "  <tbody>\n",
       "    <tr>\n",
       "      <th>0</th>\n",
       "      <td>CHOC008</td>\n",
       "      <td>CD4</td>\n",
       "      <td>TRAV12-3</td>\n",
       "      <td>TRAJ10</td>\n",
       "      <td>TRBV6-6</td>\n",
       "      <td>TRBJ2-2</td>\n",
       "      <td>CAMKWGGGNKLTF</td>\n",
       "      <td>CASWGGGENTGELFF</td>\n",
       "      <td>NSAFQY</td>\n",
       "      <td>TYSSGN</td>\n",
       "      <td>MNHNY</td>\n",
       "      <td>SVGAGI</td>\n",
       "      <td>NSAFQYTYSSGNCAMKWGGGNKLTFMNHNYSVGAGICASWGGGENT...</td>\n",
       "    </tr>\n",
       "    <tr>\n",
       "      <th>1</th>\n",
       "      <td>CHOC008</td>\n",
       "      <td>CD4</td>\n",
       "      <td>TRAV38-2/DV8</td>\n",
       "      <td>TRAJ27</td>\n",
       "      <td>TRBV18</td>\n",
       "      <td>TRBJ1-1</td>\n",
       "      <td>CAARNTNAGKSTF</td>\n",
       "      <td>CASSPQPGQGATEAFF</td>\n",
       "      <td>TSESDYY</td>\n",
       "      <td>QEAYKQQN</td>\n",
       "      <td>KGHSH</td>\n",
       "      <td>LQKENI</td>\n",
       "      <td>TSESDYYQEAYKQQNCAARNTNAGKSTFKGHSHLQKENICASSPQP...</td>\n",
       "    </tr>\n",
       "    <tr>\n",
       "      <th>2</th>\n",
       "      <td>CHOC008</td>\n",
       "      <td>CD8</td>\n",
       "      <td>TRAV29/DV5</td>\n",
       "      <td>TRAJ17</td>\n",
       "      <td>TRBV7-8</td>\n",
       "      <td>TRBJ1-1</td>\n",
       "      <td>CAASARAAGNKLTF</td>\n",
       "      <td>CASRPPTVNTEAFF</td>\n",
       "      <td>NSMFDY</td>\n",
       "      <td>ISSIKDK</td>\n",
       "      <td>SGHVS</td>\n",
       "      <td>FQNEAQ</td>\n",
       "      <td>NSMFDYISSIKDKCAASARAAGNKLTFSGHVSFQNEAQCASRPPTV...</td>\n",
       "    </tr>\n",
       "    <tr>\n",
       "      <th>3</th>\n",
       "      <td>CHOC008</td>\n",
       "      <td>CD8</td>\n",
       "      <td>TRAV38-2/DV8</td>\n",
       "      <td>TRAJ17</td>\n",
       "      <td>TRBV5-1</td>\n",
       "      <td>TRBJ2-7</td>\n",
       "      <td>CAYRGQAAGNKLTF</td>\n",
       "      <td>CASSLADDRGYEQYF</td>\n",
       "      <td>TSESDYY</td>\n",
       "      <td>QEAYKQQN</td>\n",
       "      <td>SGHRS</td>\n",
       "      <td>YFSETQ</td>\n",
       "      <td>TSESDYYQEAYKQQNCAYRGQAAGNKLTFSGHRSYFSETQCASSLA...</td>\n",
       "    </tr>\n",
       "    <tr>\n",
       "      <th>4</th>\n",
       "      <td>CHOC008</td>\n",
       "      <td>CD4</td>\n",
       "      <td>TRAV27</td>\n",
       "      <td>TRAJ15</td>\n",
       "      <td>TRBV27</td>\n",
       "      <td>TRBJ1-1</td>\n",
       "      <td>CAGGIKRTALIF</td>\n",
       "      <td>CASRGQHTEAFF</td>\n",
       "      <td>SVFSS</td>\n",
       "      <td>VVTGGEV</td>\n",
       "      <td>MNHEY</td>\n",
       "      <td>SMNVEV</td>\n",
       "      <td>SVFSSVVTGGEVCAGGIKRTALIFMNHEYSMNVEVCASRGQHTEAFF</td>\n",
       "    </tr>\n",
       "  </tbody>\n",
       "</table>\n",
       "</div>"
      ],
      "text/plain": [
       "     donor CD4_or_CD8          TRAV    TRAJ     TRBV     TRBJ           CDR3A  \\\n",
       "0  CHOC008        CD4      TRAV12-3  TRAJ10  TRBV6-6  TRBJ2-2   CAMKWGGGNKLTF   \n",
       "1  CHOC008        CD4  TRAV38-2/DV8  TRAJ27   TRBV18  TRBJ1-1   CAARNTNAGKSTF   \n",
       "2  CHOC008        CD8    TRAV29/DV5  TRAJ17  TRBV7-8  TRBJ1-1  CAASARAAGNKLTF   \n",
       "3  CHOC008        CD8  TRAV38-2/DV8  TRAJ17  TRBV5-1  TRBJ2-7  CAYRGQAAGNKLTF   \n",
       "4  CHOC008        CD4        TRAV27  TRAJ15   TRBV27  TRBJ1-1    CAGGIKRTALIF   \n",
       "\n",
       "              CDR3B    CDR1A     CDR2A  CDR1B   CDR2B  \\\n",
       "0   CASWGGGENTGELFF   NSAFQY    TYSSGN  MNHNY  SVGAGI   \n",
       "1  CASSPQPGQGATEAFF  TSESDYY  QEAYKQQN  KGHSH  LQKENI   \n",
       "2    CASRPPTVNTEAFF   NSMFDY   ISSIKDK  SGHVS  FQNEAQ   \n",
       "3   CASSLADDRGYEQYF  TSESDYY  QEAYKQQN  SGHRS  YFSETQ   \n",
       "4      CASRGQHTEAFF    SVFSS   VVTGGEV  MNHEY  SMNVEV   \n",
       "\n",
       "                                        combined_CDR  \n",
       "0  NSAFQYTYSSGNCAMKWGGGNKLTFMNHNYSVGAGICASWGGGENT...  \n",
       "1  TSESDYYQEAYKQQNCAARNTNAGKSTFKGHSHLQKENICASSPQP...  \n",
       "2  NSMFDYISSIKDKCAASARAAGNKLTFSGHVSFQNEAQCASRPPTV...  \n",
       "3  TSESDYYQEAYKQQNCAYRGQAAGNKLTFSGHRSYFSETQCASSLA...  \n",
       "4    SVFSSVVTGGEVCAGGIKRTALIFMNHEYSMNVEVCASRGQHTEAFF  "
      ]
     },
     "execution_count": 17,
     "metadata": {},
     "output_type": "execute_result"
    }
   ],
   "source": [
    "dataset[\"combined_CDR\"] = all_CDRs\n",
    "dataset.head()"
   ]
  },
  {
   "cell_type": "code",
   "execution_count": null,
   "id": "c923971e",
   "metadata": {},
   "outputs": [],
   "source": []
  },
  {
   "cell_type": "code",
   "execution_count": null,
   "id": "1148abc4",
   "metadata": {},
   "outputs": [
    {
     "data": {
      "text/plain": [
       "0    NSAFQYTYSSGNCAMKWGGGNKLTFMNHNYSVGAGICASWGGGENT...\n",
       "1    TSESDYYQEAYKQQNCAARNTNAGKSTFKGHSHLQKENICASSPQP...\n",
       "2    NSMFDYISSIKDKCAASARAAGNKLTFSGHVSFQNEAQCASRPPTV...\n",
       "3    TSESDYYQEAYKQQNCAYRGQAAGNKLTFSGHRSYFSETQCASSLA...\n",
       "4      SVFSSVVTGGEVCAGGIKRTALIFMNHEYSMNVEVCASRGQHTEAFF\n",
       "dtype: object"
      ]
     },
     "execution_count": 5,
     "metadata": {},
     "output_type": "execute_result"
    }
   ],
   "source": [
    "all_CDRs = dataset[\"CDR1A\"] + dataset[\"CDR2A\"] + dataset[\"CDR3A\"] + dataset[\"CDR1B\"] + dataset[\"CDR2B\"] + dataset[\"CDR3B\"]\n",
    "all_CDRs.head()\n"
   ]
  },
  {
   "cell_type": "code",
   "execution_count": 10,
   "id": "c7848bc9",
   "metadata": {},
   "outputs": [
    {
     "name": "stdout",
     "output_type": "stream",
     "text": [
      "4074960\n",
      "3071819\n"
     ]
    }
   ],
   "source": [
    "print(len(all_CDRs))\n",
    "print(len(all_CDRs.unique()))"
   ]
  }
 ],
 "metadata": {
  "kernelspec": {
   "display_name": "sceptr",
   "language": "python",
   "name": "python3"
  },
  "language_info": {
   "codemirror_mode": {
    "name": "ipython",
    "version": 3
   },
   "file_extension": ".py",
   "mimetype": "text/x-python",
   "name": "python",
   "nbconvert_exporter": "python",
   "pygments_lexer": "ipython3",
   "version": "3.9.6"
  }
 },
 "nbformat": 4,
 "nbformat_minor": 5
}
